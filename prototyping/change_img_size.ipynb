{
 "cells": [
  {
   "cell_type": "code",
   "execution_count": 3,
   "metadata": {},
   "outputs": [],
   "source": [
    "import numpy as np\n",
    "ab = np.array([[8, 246], [162, 247], [162, 275], [8, 276]])\n",
    "a = np.array([[8, 276], [162, 275], [162, 262], [224, 262], [224, 298], [162, 297], [162, 283]])\n",
    "bb = np.array([[8, 28], [162, 29], [162, 57], [8, 58]])\n",
    "b = np.array([[8, 58], [162, 57], [162, 43], [224, 42], [224, 78], [8, 78]])\n",
    "c = np.array([[8, 78], [224, 78], [224, 115], [162, 115], [162, 102], [8, 101]])\n",
    "db = np.array([[8, 101], [162, 102], [162, 130], [8, 131]])\n",
    "d = np.array([[8, 131], [162, 130], [162, 115], [224, 115], [224, 152], [162, 152], [162, 137]])\n",
    "eb = np.array([[8, 131], [162, 137], [162, 165], [8, 166]])\n",
    "e = np.array([[8, 166], [162, 165], [162, 152], [224, 152], [224, 188], [8, 188]])\n",
    "f = np.array([[8, 188], [224, 188], [224, 224], [162, 223], [162, 210], [8, 209]])\n",
    "gb = np.array([[8, 209], [162, 210], [162, 238], [8, 239]])\n",
    "g = np.array([[8, 239], [162, 238], [162, 223], [224, 224], [224, 262], [162, 262], [162, 247], [8, 246]])"
   ]
  },
  {
   "cell_type": "code",
   "execution_count": 33,
   "metadata": {},
   "outputs": [],
   "source": [
    "keys = {\n",
    "        'ab': ab,\n",
    "        'a': a,\n",
    "        'bb': bb,\n",
    "        'b': b,\n",
    "        'c': c,\n",
    "        'db': db,\n",
    "        'd': d,\n",
    "        'eb': eb,\n",
    "        'e': e,\n",
    "        'f': f,\n",
    "        'gb': gb,\n",
    "        'g': g,\n",
    "    }"
   ]
  },
  {
   "cell_type": "code",
   "execution_count": 13,
   "metadata": {},
   "outputs": [],
   "source": [
    "img_size = (232, 1910)\n",
    "new_size = (240, 1920)\n",
    "\n",
    "x_ratio = new_size[0]/img_size[0]\n",
    "y_ratio = new_size[1]/img_size[1]"
   ]
  },
  {
   "cell_type": "code",
   "execution_count": 36,
   "metadata": {},
   "outputs": [
    {
     "name": "stdout",
     "output_type": "stream",
     "text": [
      "ab = np.array([[8, 264], [285, 265], [285, 293], [8, 294]])\n",
      "a = np.array([[8, 291], [259, 290], [259, 277], [362, 277], [362, 313], [259, 312], [259, 298]])\n",
      "bb = np.array([[8, 28], [259, 29], [259, 57], [8, 58]])\n",
      "b = np.array([[8, 58], [259, 57], [259, 43], [362, 42], [362, 78], [8, 78]])\n",
      "c = np.array([[8, 78], [362, 78], [362, 115], [259, 115], [259, 102], [8, 101]])\n",
      "db = np.array([[8, 101], [259, 102], [259, 130], [8, 131]])\n",
      "d = np.array([[8, 131], [259, 130], [259, 115], [362, 115], [362, 152], [259, 152], [259, 137]])\n",
      "eb = np.array([[8, 131], [259, 137], [259, 165], [8, 166]])\n",
      "e = np.array([[8, 166], [259, 165], [259, 152], [362, 152], [362, 188], [8, 188]])\n",
      "f = np.array([[8, 188], [362, 188], [362, 239], [259, 238], [259, 225], [8, 224]])\n",
      "gb = np.array([[8, 224], [259, 225], [259, 253], [8, 254]])\n",
      "g = np.array([[8, 254], [259, 253], [259, 238], [362, 239], [362, 277], [259, 277], [259, 262], [8, 261]])\n"
     ]
    }
   ],
   "source": [
    "from pprint import pprint\n",
    "for key, value in keys.items():\n",
    "    for j, tup in enumerate(value):\n",
    "        new = int(tup[0]*x_ratio), int(tup[1]*y_ratio)\n",
    "        value[j] = new\n",
    "    print(f'{key} = np.array({np.array(value).tolist()})')"
   ]
  },
  {
   "cell_type": "code",
   "execution_count": 42,
   "metadata": {},
   "outputs": [],
   "source": [
    "import cv2\n",
    "import matplotlib.pyplot as plt\n",
    "%matplotlib inline"
   ]
  },
  {
   "cell_type": "code",
   "execution_count": 47,
   "metadata": {},
   "outputs": [
    {
     "data": {
      "text/plain": [
       "True"
      ]
     },
     "execution_count": 47,
     "metadata": {},
     "output_type": "execute_result"
    }
   ],
   "source": [
    "img = cv2.cvtColor(cv2.resize(cv2.imread('assets/piano.jpg'), (1920, 240)), cv2.COLOR_BGR2RGB)\n",
    "cv2.imwrite('assets/piano2.jpg', img)"
   ]
  },
  {
   "cell_type": "code",
   "execution_count": null,
   "metadata": {},
   "outputs": [],
   "source": []
  }
 ],
 "metadata": {
  "kernelspec": {
   "display_name": "Python [conda env:cv]",
   "language": "python",
   "name": "conda-env-cv-py"
  },
  "language_info": {
   "codemirror_mode": {
    "name": "ipython",
    "version": 3
   },
   "file_extension": ".py",
   "mimetype": "text/x-python",
   "name": "python",
   "nbconvert_exporter": "python",
   "pygments_lexer": "ipython3",
   "version": "3.6.6"
  }
 },
 "nbformat": 4,
 "nbformat_minor": 2
}

{
 "cells": [
  {
   "cell_type": "code",
   "execution_count": 1,
   "metadata": {},
   "outputs": [
    {
     "data": {
      "text/html": [
       "<div>\n",
       "<style scoped>\n",
       "    .dataframe tbody tr th:only-of-type {\n",
       "        vertical-align: middle;\n",
       "    }\n",
       "\n",
       "    .dataframe tbody tr th {\n",
       "        vertical-align: top;\n",
       "    }\n",
       "\n",
       "    .dataframe thead th {\n",
       "        text-align: right;\n",
       "    }\n",
       "</style>\n",
       "<table border=\"1\" class=\"dataframe\">\n",
       "  <thead>\n",
       "    <tr style=\"text-align: right;\">\n",
       "      <th></th>\n",
       "      <th>Keynumber</th>\n",
       "      <th>Helmholtzname</th>\n",
       "      <th>Scientificname</th>\n",
       "      <th>Frequency (Hz)</th>\n",
       "    </tr>\n",
       "  </thead>\n",
       "  <tbody>\n",
       "    <tr>\n",
       "      <th>1</th>\n",
       "      <td>88</td>\n",
       "      <td>C</td>\n",
       "      <td>C8 Eighth octave</td>\n",
       "      <td>4188.0</td>\n",
       "    </tr>\n",
       "    <tr>\n",
       "      <th>2</th>\n",
       "      <td>87</td>\n",
       "      <td>B</td>\n",
       "      <td>B7</td>\n",
       "      <td>3952.0</td>\n",
       "    </tr>\n",
       "    <tr>\n",
       "      <th>3</th>\n",
       "      <td>86</td>\n",
       "      <td>A♯/B♭</td>\n",
       "      <td>A♯7/B♭7</td>\n",
       "      <td>3730.0</td>\n",
       "    </tr>\n",
       "    <tr>\n",
       "      <th>4</th>\n",
       "      <td>85</td>\n",
       "      <td>A</td>\n",
       "      <td>A7</td>\n",
       "      <td>3520.0</td>\n",
       "    </tr>\n",
       "    <tr>\n",
       "      <th>5</th>\n",
       "      <td>84</td>\n",
       "      <td>G♯/A♭</td>\n",
       "      <td>G♯7/A♭7</td>\n",
       "      <td>3322.0</td>\n",
       "    </tr>\n",
       "  </tbody>\n",
       "</table>\n",
       "</div>"
      ],
      "text/plain": [
       "   Keynumber Helmholtzname    Scientificname  Frequency (Hz)\n",
       "1         88             C  C8 Eighth octave          4188.0\n",
       "2         87             B                B7          3952.0\n",
       "3         86         A♯/B♭           A♯7/B♭7          3730.0\n",
       "4         85             A                A7          3520.0\n",
       "5         84         G♯/A♭           G♯7/A♭7          3322.0"
      ]
     },
     "execution_count": 1,
     "metadata": {},
     "output_type": "execute_result"
    }
   ],
   "source": [
    "from pydub import AudioSegment\n",
    "from pydub.silence import detect_nonsilent\n",
    "import audiosegment\n",
    "\n",
    "import os\n",
    "import cv2\n",
    "import numpy as np\n",
    "import pandas as pd\n",
    "import matplotlib.pyplot as plt\n",
    "from scipy.spatial import KDTree\n",
    "from scipy.signal import argrelextrema\n",
    "from tqdm import tqdm_notebook as tqdm\n",
    "\n",
    "# for visualization later on\n",
    "piano_img = os.path.join('assets', 'piano.jpg')\n",
    "\n",
    "# dataframe to map notes, frequencies, and keyboard keys\n",
    "freqs = pd.read_csv(os.path.join('assets', 'freqs.csv'))\n",
    "freqs = freqs.iloc[1: ,:4]\n",
    "freqs['Helmholtzname'] = freqs.Helmholtzname.apply(lambda x: x.replace('′', ''))\n",
    "freqs['Helmholtzname'] = freqs.Helmholtzname.apply(lambda x: x.replace('͵', ''))\n",
    "freqs['Helmholtzname'] = freqs.Helmholtzname.apply(lambda x: x.split(' ')[0])\n",
    "freqs['Helmholtzname'] = freqs.Helmholtzname.apply(lambda x: x.upper())\n",
    "freqs['Frequency (Hz)'] = freqs['Frequency (Hz)'].astype(np.float16)\n",
    "freqs['Keynumber'] = freqs['Keynumber'].astype(np.uint8)\n",
    "freqs = freqs[freqs.Keynumber <= 88]\n",
    "freqs = freqs.sort_values('Keynumber', ascending=False)\n",
    "freqs.index = range(1, 89)\n",
    "freqs.head()"
   ]
  },
  {
   "cell_type": "code",
   "execution_count": 2,
   "metadata": {},
   "outputs": [
    {
     "data": {
      "text/plain": [
       "<matplotlib.image.AxesImage at 0x1196a0128>"
      ]
     },
     "execution_count": 2,
     "metadata": {},
     "output_type": "execute_result"
    },
    {
     "data": {
      "image/png": "[encoded data removed]",
      "text/plain": [
       "<Figure size 1440x216 with 1 Axes>"
      ]
     },
     "metadata": {},
     "output_type": "display_data"
    }
   ],
   "source": [
    "# generate keypoints of piano keys localized via `utils/localize_keyboard_mappings.py`\n",
    "\n",
    "img = cv2.cvtColor(cv2.imread(piano_img), cv2.COLOR_BGR2RGB)\n",
    "octave = 255\n",
    "\n",
    "ab = np.array([[  8, 246], [162, 247], [162, 275], [  8, 276]])\n",
    "a = np.array([[8, 276], [162, 275], [162, 262], [224, 262], [224, 298], [162, 297], [162, 283]])\n",
    "bb = np.array([[8, 28], [162,  29], [162,  57], [8, 58]])\n",
    "b = np.array([[8, 58], [162,  57], [162,  43], [224,  42], [224,  78], [8, 78]])\n",
    "c = np.array([[8, 78], [224,  78], [224, 115], [162, 115], [162, 102], [8, 101]])\n",
    "db = np.array([[8, 101], [162, 102], [162, 130], [8, 131]])\n",
    "d = np.array([[8, 131], [162, 130], [162, 115], [224, 115], [224, 152], [162, 152], [162, 137]])\n",
    "eb = np.array([[8, 131], [162, 137], [162, 165], [8, 166]])\n",
    "e = np.array([[8, 166], [162, 165], [162, 152], [224, 152], [224, 188], [8, 188]])\n",
    "f = np.array([[8, 188], [224, 188], [224, 224], [162, 223], [162, 210], [8, 209]])\n",
    "gb = np.array([[8, 209], [162, 210], [162, 238], [8, 239]])\n",
    "g = np.array([[8, 239], [162, 238], [162, 223], [224, 224], [224, 262], [162, 262], [162, 247], [8, 246]])\n",
    "\n",
    "keys = {\n",
    "    'bb': bb,\n",
    "    'b': b,\n",
    "    'c': c,\n",
    "    'db': db,\n",
    "    'd': d,\n",
    "    'eb': eb,\n",
    "    'e': e,\n",
    "    'f': f,\n",
    "    'gb': gb,\n",
    "    'g': g,\n",
    "    'ab': ab,\n",
    "    'a': a, \n",
    "       }\n",
    "\n",
    "j = 1\n",
    "df = pd.DataFrame(columns=['note', 'points'])\n",
    "for i in range(0, 8):\n",
    "    for root, orig_key in keys.items():\n",
    "        key = orig_key.copy()\n",
    "        if root not in ['bb', 'b'] and i == 7:\n",
    "            continue\n",
    "        if i != 0:\n",
    "            key[:, 1] = key[:, 1] + 255*i\n",
    "        for p in key: \n",
    "            cv2.circle(img, tuple(p[::-1]), 3, [255, 0, 255], 4)\n",
    "    \n",
    "        df.loc[88-j] = [root+str(i), list(key)]\n",
    "        j += 1\n",
    "freqs = freqs.join(df)\n",
    "\n",
    "plt.figure(figsize=(20, 3))\n",
    "plt.imshow(img)"
   ]
  },
  {
   "cell_type": "code",
   "execution_count": 3,
   "metadata": {},
   "outputs": [],
   "source": [
    "# # download a song\n",
    "# # https://superuser.com/questions/1266162/youtube-dl-set-sample-rate-on-mp3\n",
    "# !youtube-dl --extract-audio --audio-quality 0 --audio-format mp3 --postprocessor-args \"-r 44100\" https://www.youtube.com/watch?v=zE0Fwm7gv1c\n"
   ]
  },
  {
   "cell_type": "code",
   "execution_count": 22,
   "metadata": {},
   "outputs": [
    {
     "data": {
      "text/plain": [
       "array(88)"
      ]
     },
     "execution_count": 22,
     "metadata": {},
     "output_type": "execute_result"
    }
   ],
   "source": [
    "s.get_notes(4188)"
   ]
  },
  {
   "cell_type": "code",
   "execution_count": 32,
   "metadata": {},
   "outputs": [
    {
     "data": {
      "text/plain": [
       "array([1, 2], dtype=uint8)"
      ]
     },
     "execution_count": 32,
     "metadata": {},
     "output_type": "execute_result"
    }
   ],
   "source": []
  },
  {
   "cell_type": "code",
   "execution_count": 61,
   "metadata": {},
   "outputs": [],
   "source": [
    "class Song:\n",
    "\n",
    "    def __init__(self, mp3_file):\n",
    "        # music data\n",
    "        self.seg = audiosegment.from_file(mp3_file)\n",
    "        self.arr = np.array(self.seg.seg.get_array_of_samples())\n",
    "                \n",
    "        # key numbers\n",
    "        self.in_sample_rate = self.seg.frame_rate\n",
    "        self.num_samples = len(self.arr)\n",
    "        self.ms = len(self.seg)\n",
    "        self.bpm = self.get_bpm()\n",
    "        self.num_beats = int(self.num_samples / self.bpm)\n",
    "        self.max_freq = 4186 # hz of high c (key 88)\n",
    "        \n",
    "        def find_nearest(value):\n",
    "            # quantize to nearest note, indexed by freqs df\n",
    "            array = freqs['Frequency (Hz)']\n",
    "            idx = (np.abs(array - value)).idxmin()\n",
    "            return 89-idx\n",
    "        self.get_notes = np.vectorize(find_nearest)\n",
    "\n",
    "\n",
    "    def get_bpm(self):\n",
    "#         https://gist.github.com/jiaaro/faa96fabd252b8552066\n",
    "        low_seg = self.seg.low_pass_filter(120.0)\n",
    "        # anything above average loudness\n",
    "        beat_loudness = low_seg.dBFS \n",
    "        minimum_silence = int(60000 / 240.0) # max tempo\n",
    "        nonsilent_times = detect_nonsilent(low_seg, minimum_silence, beat_loudness)\n",
    "\n",
    "        spaces_between_beats = []\n",
    "        last_t = nonsilent_times[0][0]\n",
    "\n",
    "        for peak_start, _ in nonsilent_times[1:]:\n",
    "            spaces_between_beats.append(peak_start - last_t)\n",
    "            last_t = peak_start\n",
    "\n",
    "        # base bpm guess on the median space between beats\n",
    "        spaces_between_beats = sorted(spaces_between_beats)\n",
    "        space = spaces_between_beats[len(spaces_between_beats) // 2]\n",
    "\n",
    "        bpm = 60000 / space\n",
    "        return bpm\n",
    "    \n",
    "    def get_1beat_fft(self, offset, plot=False):\n",
    "        delta = int(self.ms / self.bpm) #ms\n",
    "\n",
    "        hist_bins, hist_vals = self.seg[1+offset:delta+offset].fft()\n",
    "        hist_vals_real_normed = np.abs(hist_vals) / len(hist_vals)\n",
    "\n",
    "        thresh = hist_bins < self.max_freq\n",
    "        bins = hist_bins[thresh]\n",
    "        vals = hist_vals_real_normed[thresh]\n",
    "\n",
    "        if plot:\n",
    "            plt.plot(bins , vals)\n",
    "            plt.xlabel(\"Hz\"); plt.ylabel(\"dB\")\n",
    "            plt.show()\n",
    "\n",
    "        return bins, vals\n",
    "    \n",
    "    def get_peaks(self, bins, vals, plot=False):\n",
    "        peaks = argrelextrema(vals, np.greater, order=101)[0]\n",
    "        hz_peaks, db_peaks = bins[peaks], vals[peaks]\n",
    "\n",
    "        thresh = db_peaks > 1 # minimum decibels\n",
    "        hz_peaks, db_peaks = hz_peaks[thresh], db_peaks[thresh]\n",
    "\n",
    "        if plot:\n",
    "            plt.figure(figsize=(16, 5))\n",
    "            plt.plot(bins, vals)\n",
    "            plt.scatter(hz_peaks, db_peaks, s=12, c='r')\n",
    "            plt.title('FFT plot of sample')\n",
    "            plt.xlabel(\"Hz\"); plt.ylabel(\"dB\")\n",
    "            plt.show()\n",
    "\n",
    "        return hz_peaks, db_peaks\n",
    "    \n",
    "\n",
    "    def sample(self, offset=0, plot=False):\n",
    "        \"\"\"\n",
    "        Gerneate a sample of the song with metadata about frequency information. \n",
    "        Args: \n",
    "            offset (int): offset in ms from beginning of song\n",
    "            plot (bool): whether to plot the FFT plot\n",
    "        Returns:\n",
    "            pd.DataFrame of sample metadata\n",
    "        \"\"\"\n",
    "        dominant_freqs, dbs = self.get_peaks(*self.get_1beat_fft(offset=offset), plot=plot)\n",
    "        if len(dominant_freqs) == 0:\n",
    "            return pd.DataFrame(columns = ['note', 'f', 'db', 'num'])\n",
    "        notes_index = self.get_notes(dominant_freqs)\n",
    "        notes = freqs.loc[89-np.unique(notes_index)].Helmholtzname\n",
    "        notes_out = pd.DataFrame([notes.values, dominant_freqs, dbs, notes_index]).T\n",
    "        notes_out.columns = ['note', 'f', 'db', 'num']\n",
    "        return notes_out\n",
    "\n",
    "# -----------------------------------------\n",
    "def generate_keyboard(sample_data, debug=False):\n",
    "    \"\"\"\n",
    "    Iterate through notes found in sample and draw on keyboard image. \n",
    "    Intensity of color depends on loudness (decibels).\n",
    "    \n",
    "    Args:\n",
    "        samle_data (pd.DataFrame): df generated by Song.sample()\n",
    "    Returns: \n",
    "        np.array image of colorized piano\n",
    "    \n",
    "    \"\"\"\n",
    "    piano_template = cv2.cvtColor(cv2.imread(piano_img), cv2.COLOR_BGR2RGB)\n",
    "\n",
    "    for note in range(sample_data.shape[0]):\n",
    "        piano = piano_template.copy()\n",
    "        note_metadata = sample_data.iloc[note]\n",
    "        freq_map = freqs.iloc[int(note_metadata['num'])]\n",
    "        if type(freq_map.points) is not list:\n",
    "            continue\n",
    "        points = np.array(freq_map.points, dtype=np.int32)\n",
    "        cv2.fillPoly(piano, [points[:, ::-1]], [0, 255, 0])\n",
    "\n",
    "        if debug:\n",
    "            print(note_metadata, freq_map)\n",
    "            for p in points: \n",
    "                cv2.circle(piano, tuple(p[::-1]), 3, [255, 0, 255], 4)\n",
    "\n",
    "        intensity = note_metadata.db / sample_data.db.max()\n",
    "        piano_template = cv2.addWeighted(piano_template, 1-intensity, piano, intensity, 0)\n",
    "        \n",
    "    return piano_template"
   ]
  },
  {
   "cell_type": "code",
   "execution_count": 62,
   "metadata": {},
   "outputs": [
    {
     "data": {
      "image/png": "[encoded data removed]",
      "text/plain": [
       "<Figure size 1152x360 with 1 Axes>"
      ]
     },
     "metadata": {},
     "output_type": "display_data"
    },
    {
     "data": {
      "image/png": "[encoded data removed]",
      "text/plain": [
       "<Figure size 1440x216 with 1 Axes>"
      ]
     },
     "metadata": {},
     "output_type": "display_data"
    }
   ],
   "source": [
    "song_file = os.path.join('assets', 'twinkle.mp3')\n",
    "s = Song(song_file)\n",
    "sample_data = s.sample(5000, plot=True)\n",
    "piano_lit = generate_keyboard(sample_data)\n",
    "\n",
    "plt.figure(figsize=(20, 3))\n",
    "plt.imshow(piano_lit)\n",
    "plt.show()"
   ]
  },
  {
   "cell_type": "code",
   "execution_count": 86,
   "metadata": {
    "scrolled": false
   },
   "outputs": [
    {
     "data": {
      "application/vnd.jupyter.widget-view+json": {
       "model_id": "772300f0247a4e2fb5f1ffef089fbcb3",
       "version_major": 2,
       "version_minor": 0
      },
      "text/plain": [
       "HBox(children=(IntProgress(value=0, max=949), HTML(value='')))"
      ]
     },
     "metadata": {},
     "output_type": "display_data"
    },
    {
     "name": "stdout",
     "output_type": "stream",
     "text": [
      "\n",
      "[MoviePy] >>>> Building video test.mp4\n",
      "[MoviePy] Writing audio in temp-audio.m4a\n"
     ]
    },
    {
     "name": "stderr",
     "output_type": "stream",
     "text": [
      "100%|██████████| 1047/1047 [00:01<00:00, 968.58it/s]"
     ]
    },
    {
     "name": "stdout",
     "output_type": "stream",
     "text": [
      "[MoviePy] Done.\n",
      "[MoviePy] Writing video test.mp4\n"
     ]
    },
    {
     "name": "stderr",
     "output_type": "stream",
     "text": [
      "\n",
      "100%|██████████| 949/949 [00:08<00:00, 110.55it/s]"
     ]
    },
    {
     "name": "stdout",
     "output_type": "stream",
     "text": [
      "[MoviePy] Done.\n",
      "[MoviePy] >>>> Video ready: test.mp4 \n",
      "\n"
     ]
    },
    {
     "name": "stderr",
     "output_type": "stream",
     "text": [
      "\n"
     ]
    }
   ],
   "source": [
    "frames = []\n",
    "sample_rate = 50\n",
    "for offset in tqdm(range(0, s.ms, sample_rate)):\n",
    "    sample_data = s.sample(offset=offset)\n",
    "    piano_lit = generate_keyboard(sample_data)\n",
    "    frames.append(piano_lit)\n",
    "    \n",
    "from moviepy.editor import *\n",
    "clips = [ImageClip(f).set_duration(sample_rate/1000.) for f in frames]\n",
    "concat_clip = concatenate_videoclips(clips, method=\"compose\")\n",
    "concat_clip = concat_clip.set_audio(AudioFileClip(song_file))\n",
    "concat_clip.write_videofile(\"test.mp4\", fps=1000//sample_rate,\n",
    "                             temp_audiofile=\"temp-audio.m4a\", remove_temp=True,\n",
    "                             codec=\"libx264\", audio_codec=\"aac\")\n",
    "!open test.mp4"
   ]
  }
 ],
 "metadata": {
  "kernelspec": {
   "display_name": "Python 3",
   "language": "python",
   "name": "python3"
  },
  "language_info": {
   "codemirror_mode": {
    "name": "ipython",
    "version": 3
   },
   "file_extension": ".py",
   "mimetype": "text/x-python",
   "name": "python",
   "nbconvert_exporter": "python",
   "pygments_lexer": "ipython3",
   "version": "3.6.4"
  }
 },
 "nbformat": 4,
 "nbformat_minor": 2
}
